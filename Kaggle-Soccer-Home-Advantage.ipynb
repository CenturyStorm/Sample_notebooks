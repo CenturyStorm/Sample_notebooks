{
 "cells": [
  {
   "cell_type": "markdown",
   "metadata": {
    "_cell_guid": "a09a5e7c-bec7-4542-cd14-1601fc29696a",
    "_uuid": "302e7acf588cb38ac84559505b208ea74c47d225"
   },
   "source": [
    "Hello All. This is my first entry on Kaggle. Therefore I want to focus on readable code and doing a simple analysis with this dataset."
   ]
  },
  {
   "cell_type": "markdown",
   "metadata": {
    "_cell_guid": "e00f7d85-b132-d9fc-7d21-5ca0a8731791",
    "_uuid": "8d75b686622639decf22834413a935d404700249"
   },
   "source": [
    "Let's first import the modules we need"
   ]
  },
  {
   "cell_type": "code",
   "execution_count": null,
   "metadata": {
    "_cell_guid": "045bfe9e-9257-8ca9-bd16-aaeb2b4c6438",
    "_uuid": "777c28e679c4a099e4fd2c8d462beed8bf607fc0",
    "collapsed": true
   },
   "outputs": [],
   "source": [
    "#######################\n",
    "# Simple analysis of home advantage for every league\n",
    "# Lars Tijssen | lars.tijssen@essl.org\n",
    "# database: European Soccer League\n",
    "# 2017-05-31\n",
    "#######################\n",
    "\n",
    "%matplotlib inline\n",
    "\n",
    "import numpy as np\n",
    "import matplotlib.pyplot as plt\n",
    "import seaborn as sns\n",
    "import pandas as pd\n",
    "import sqlite3"
   ]
  },
  {
   "cell_type": "markdown",
   "metadata": {
    "_cell_guid": "ea744f4e-a47e-ed07-c349-6d5e62d40d1d",
    "_uuid": "0baa228822ef286cb448278f2558dabfa070e19c"
   },
   "source": [
    "Load the database into python"
   ]
  },
  {
   "cell_type": "code",
   "execution_count": null,
   "metadata": {
    "_cell_guid": "ea5b12a3-3ab4-62fb-317a-3c15d09cb0fc",
    "_uuid": "a6ac344041ae4da3487012fabb2f8c59dee3e740",
    "collapsed": true
   },
   "outputs": [],
   "source": [
    "# load data\n",
    "path = '../input/database.sqlite'\n",
    "with sqlite3.connect(path) as con:\n",
    "    countries = pd.read_sql_query(\"SELECT * from Country\", con)\n",
    "    matches = pd.read_sql_query(\"SELECT * from Match\", con)\n",
    "    leagues = pd.read_sql_query(\"SELECT * from League\", con)\n",
    "    teams = pd.read_sql_query(\"SELECT * from Team\", con)"
   ]
  },
  {
   "cell_type": "markdown",
   "metadata": {
    "_cell_guid": "1e657f89-494e-bc48-6407-2bec2c9b6991",
    "_uuid": "d120dc6da0bfd1fd02a72e80ae72d7dc7eaddc58"
   },
   "source": [
    "Let's rework the data a little bit. Especially replacing the id of the League, country and teams columns to their actual names helps a lot in the later run. Also converting the date column to datetime is something that I like because you can then select by date if need be (not really necessary for the purpose of this script though)"
   ]
  },
  {
   "cell_type": "code",
   "execution_count": null,
   "metadata": {
    "_cell_guid": "bfbedac9-b869-aaf5-1f57-2fe80d45a7ae",
    "_uuid": "0c9d325a51bb0f8cd088589b2cda957e38d6c1d3",
    "collapsed": true
   },
   "outputs": [],
   "source": [
    "# Sanitize the data\n",
    "\n",
    "## select the id-column as the index of the dataframe\n",
    "matches = matches.set_index('id')\n",
    "\n",
    "## map the actual name to the id \n",
    "# league\n",
    "league_id_map = leagues.set_index('id').to_dict()['name']\n",
    "matches['league_id'] = matches['league_id'].map(league_id_map)\n",
    "\n",
    "# country\n",
    "country_id_map = countries.set_index('id').to_dict()['name']\n",
    "matches['country_id'] = matches['country_id'].map(country_id_map)\n",
    "\n",
    "# teams\n",
    "team_id_map = teams.set_index('team_api_id').to_dict()['team_long_name']\n",
    "matches['home_team_api_id'] = matches['home_team_api_id'].map(team_id_map)\n",
    "matches['away_team_api_id'] = matches['away_team_api_id'].map(team_id_map)\n",
    "\n",
    "## convert the date column to python datetime\n",
    "matches.date = pd.to_datetime(matches.date)"
   ]
  },
  {
   "cell_type": "markdown",
   "metadata": {
    "_cell_guid": "80683404-d2a8-4858-d0a2-f8581651d6e3",
    "_uuid": "5c2422aa290b35a2274a8be2da03a0e8cea70275"
   },
   "source": [
    "Okay. Now that we have sanitized the data a little bit, let's see if we can do some analysis. There is a lot of information in these databases so I want to focus on something simple. Let's see if we can see what the ratio is between home goals and away goals for every individual league. Since this is an average stat we don't have to worry about the amount of teams or amount of games played in every league.\n",
    "\n",
    "First we select the **home_team_goal** and **away_team_goal** columns that we need to calculate these stats and then calculate the mean over these columns for every league using the groupby command."
   ]
  },
  {
   "cell_type": "code",
   "execution_count": null,
   "metadata": {
    "_cell_guid": "767d2159-62e2-5fef-e095-6e6d03e347aa",
    "_uuid": "973e8a56a6332f519e5223bdd19527fae8701240",
    "collapsed": true
   },
   "outputs": [],
   "source": [
    "# calculate the mean goals per league\n",
    "mean_goals = matches[['league_id','home_team_goal','away_team_goal']].groupby('league_id').mean()"
   ]
  },
  {
   "cell_type": "markdown",
   "metadata": {
    "_cell_guid": "3a1f9c0d-731c-325c-8790-0c998db88558",
    "_uuid": "6f955d7b1dc1b059572ce7c82e4d655e7b53ae2f"
   },
   "source": [
    "So now we have the mean goals scored by the home team and away team for every league. To calculate the percentage we simply divide these columns by the sum of the average and multiply by 100."
   ]
  },
  {
   "cell_type": "code",
   "execution_count": null,
   "metadata": {
    "_cell_guid": "79ef489b-5f95-51f2-b8cb-9c2995c61163",
    "_uuid": "c773e75664bbc753c7355182c84a8cdf576c1f46",
    "collapsed": true
   },
   "outputs": [],
   "source": [
    "# calculate the mean goals per league as percentage from the total\n",
    "total_goals = mean_goals['home_team_goal'] + mean_goals['away_team_goal']\n",
    "mean_goals['home_team_goal_percent'] = 1e2 * mean_goals['home_team_goal'] / total_goals\n",
    "mean_goals['away_team_goal_percent'] = 1e2 * mean_goals['away_team_goal'] / total_goals\n",
    "\n",
    "# make a subset of \n",
    "mean_goals_percent = mean_goals[['home_team_goal_percent','away_team_goal_percent']]"
   ]
  },
  {
   "cell_type": "markdown",
   "metadata": {
    "_cell_guid": "1ac5158d-7ad8-a3d6-4eaf-2a3283b6316c",
    "_uuid": "a3040fa1a3bcb39572672fdebae8a3fb3c675799"
   },
   "source": [
    "Now that we have done the calculation we can display the pandas dataframe below"
   ]
  },
  {
   "cell_type": "code",
   "execution_count": null,
   "metadata": {
    "_cell_guid": "8af96866-2e37-c49b-e5e1-49ff8d40e714",
    "_uuid": "175c3a200253a3cd22b95951fd1947124578b2a4",
    "collapsed": true
   },
   "outputs": [],
   "source": [
    "mean_goals_percent"
   ]
  },
  {
   "cell_type": "markdown",
   "metadata": {
    "_cell_guid": "728e0ebf-d4e0-8e03-140e-423b55f8dee8",
    "_uuid": "da58f2649f9417e0a1caa0ac7ab5e4e601bb65f6"
   },
   "source": [
    "and subsequently show it as a barplot using pandas and matplotlib"
   ]
  },
  {
   "cell_type": "code",
   "execution_count": null,
   "metadata": {
    "_cell_guid": "ac8a8495-d6a1-fd7f-d7b8-0cf2cdf0628b",
    "_uuid": "9d69342e666d9cdd5b305b714985157a18610c7f",
    "collapsed": true
   },
   "outputs": [],
   "source": [
    "#### plot the mean goals per league as a horizontal bar chart using pandas plotting\n",
    "mgp_plot = mean_goals_percent.plot(kind='barh', stacked=True, legend = False,\n",
    "                                   fontsize = 12, width = 0.8, xticks = np.arange(0,100.1,10))\n",
    "\n",
    "mgp_plot.set_xlabel('Percent', fontsize = 14)\n",
    "mgp_plot.set_ylabel('League', fontsize = 14)\n",
    "mgp_plot.set_title('Ratio between home goals and away goals for each League in percent', fontsize = 16)\n",
    "\n",
    "mgp_plot.vlines(50, ymin = -0.5, ymax = 10.5, linewidth = 0.5, linestyle = '--')\n",
    "\n",
    "# plot numbers in plot\n",
    "k = 0\n",
    "for index, row in mean_goals_percent.iterrows():\n",
    "    \n",
    "    k1 = row['home_team_goal_percent'].round(2)\n",
    "    k2 = row['away_team_goal_percent'].round(2)\n",
    "    \n",
    "    mgp_plot.text(x = 25, y = k, s = k1, color = 'white', fontsize = 14, ha = 'center', va = 'center')\n",
    "    mgp_plot.text(x = 80, y = k, s = k2, color = 'white', fontsize = 14, ha = 'center', va = 'center')\n",
    "    k += 1\n",
    "    \n",
    "plt.legend(bbox_to_anchor=(1.45,1), fontsize = 12)"
   ]
  },
  {
   "cell_type": "markdown",
   "metadata": {
    "_cell_guid": "0b1dc07c-2cfa-a20e-90cf-c3fb0970fe0a",
    "_uuid": "766b593fda222dadd88fc876f40f108858c59f9e"
   },
   "source": [
    "OK. That's it for now. We can see that in every league the home team has a distinct advantage, with Scotlands teams having the least and Spains teams having the most. Interesting questions to answer would be why this home advantage manifests itself and why the differences between the leagues occur, but that is beyond the scope of this notebook."
   ]
  }
 ],
 "metadata": {
  "_change_revision": 0,
  "_is_fork": false,
  "anaconda-cloud": {},
  "kernelspec": {
   "display_name": "Python [conda root]",
   "language": "python",
   "name": "conda-root-py"
  },
  "language_info": {
   "codemirror_mode": {
    "name": "ipython",
    "version": 2
   },
   "file_extension": ".py",
   "mimetype": "text/x-python",
   "name": "python",
   "nbconvert_exporter": "python",
   "pygments_lexer": "ipython2",
   "version": "2.7.12"
  }
 },
 "nbformat": 4,
 "nbformat_minor": 0
}
