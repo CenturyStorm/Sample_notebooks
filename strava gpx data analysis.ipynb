{
 "cells": [
  {
   "cell_type": "markdown",
   "metadata": {},
   "source": [
    "#### This notebook is analysing my Strava and Komoot gpx data from the last 5-6 years. (c) Lars Tijssen"
   ]
  },
  {
   "cell_type": "code",
   "execution_count": 16,
   "metadata": {},
   "outputs": [],
   "source": [
    "%matplotlib inline\n",
    "import numpy as np\n",
    "import matplotlib.pyplot as plt\n",
    "import seaborn as sns\n",
    "import gpxpy\n",
    "\n",
    "import pandas as pd\n",
    "import os\n",
    "import sklearn"
   ]
  },
  {
   "cell_type": "code",
   "execution_count": 17,
   "metadata": {},
   "outputs": [],
   "source": [
    "pd.set_option('display.max_rows', 1000)"
   ]
  },
  {
   "cell_type": "code",
   "execution_count": null,
   "metadata": {},
   "outputs": [],
   "source": [
    "# lets load in all the gpx files\n",
    "path = 'F:\\\\Downloads\\\\strava\\\\activities\\\\'\n",
    "\n",
    "files = os.listdir(path)\n",
    "files = [path + file for file in files]\n",
    "\n",
    "gpxtracks = []\n",
    "for file in files:\n",
    "    gpx_file = open(file, 'r', encoding='utf-8')\n",
    "    gpx = gpxpy.parse(gpx_file)\n",
    "    gpxtracks.append(gpx)\n",
    "    gpx_file.close()"
   ]
  },
  {
   "cell_type": "markdown",
   "metadata": {},
   "source": [
    "example of one of the gpx file and what it contains"
   ]
  },
  {
   "cell_type": "code",
   "execution_count": 18,
   "metadata": {},
   "outputs": [
    {
     "data": {
      "text/plain": [
       "MovingData(moving_time=5604.0, stopped_time=564.0, moving_distance=38747.210453996006, stopped_distance=64.02605402208448, max_speed=11.499018267511113)"
      ]
     },
     "execution_count": 18,
     "metadata": {},
     "output_type": "execute_result"
    }
   ],
   "source": [
    "test = gpxtracks[0]\n",
    "test.get_moving_data()"
   ]
  },
  {
   "cell_type": "code",
   "execution_count": 19,
   "metadata": {},
   "outputs": [],
   "source": [
    "# lets calculate some statistics from the gpx files and convert all the data to a Pandas DataFrame\n",
    "length3d = pd.Series([a.length_3d() for a in gpxtracks], name = 'length (m)')\n",
    "duration = pd.Series([a.get_duration() for a in gpxtracks], name = 'duration (s)')\n",
    "uphill = pd.Series([a.get_uphill_downhill().uphill for a in gpxtracks], name = 'height meters (m)')\n",
    "downhill = pd.Series([a.get_uphill_downhill().downhill for a in gpxtracks], name = 'downhill height meters(m)')\n",
    "max_speed = pd.Series([a.get_moving_data().max_speed for a in gpxtracks], name = 'max speed (km/h)') * 3.6\n",
    "\n",
    "avg_speed = length3d / duration * 3.6\n",
    "avg_speed.name = 'average speed (km/h)'\n",
    "title = pd.Series([a.tracks[0].name for a in gpxtracks], name = 'title', dtype = str)"
   ]
  },
  {
   "cell_type": "markdown",
   "metadata": {},
   "source": [
    "lets add categories for all the gpx files. I had to do all of this by hand\n",
    "The categories are:\n",
    "- hiking\n",
    "- cycling\n",
    "- running\n",
    "- skitour\n",
    "- skiing\n",
    "- failed (mistakes made in recording)\n"
   ]
  },
  {
   "cell_type": "code",
   "execution_count": 20,
   "metadata": {},
   "outputs": [],
   "source": [
    "sport = ['cycling','hiking','hiking','hiking','cycling','hiking','cycling','hiking','hiking','hiking','cycling','hiking','hiking','cycling','hiking','hiking',\n",
    "         'cycling','hiking','hiking','hiking','hiking','hiking','hiking','hiking','hiking','hiking','hiking','hiking','hiking','hiking','hiking','hiking',\n",
    "         'cycling','hiking','hiking','hiking','hiking','cycling','cycling','skitour','skitour','cycling','skitour','cycling','cycling','hiking','cycling',\n",
    "         'hiking','failed','hiking','failed','failed','cycling','cycling','hiking','cycling','cycling','cycling','cycling','cycling','cycling','cycling',\n",
    "         'cycling','cycling','cycling','cycling','cycling','cycling','cycling','cycling','failed','cycling','cycling','cycling','cycling','hiking','hiking',\n",
    "         'hiking','cycling','hiking','hiking','hiking','hiking','hiking','hiking','hiking','hiking','hiking','cycling','cycling','cycling','cycling','failed',\n",
    "         'cycling','cycling','cycling','hiking','hiking','hiking','hiking','cycling','cycling','cycling','cycling','cycling','failed','failed','hiking',\n",
    "         'hiking','hiking','hiking','hiking','hiking','hiking','hiking','cycling','hiking','hiking','hiking','hiking','hiking','hiking','hiking','hiking',\n",
    "         'hiking','hiking','hiking','hiking','hiking','hiking','cycling','hiking','cycling','hiking','hiking','run','cycling','run','run','run','cycling',\n",
    "         'hiking','hiking','run','hiking','run','hiking','hiking','hiking','cycling','cycling','hiking','hiking','hiking','hiking','cycling','hiking',\n",
    "         'hiking','hiking','hiking','hiking','hiking','hiking','ski','ski','ski','ski','ski','ski','ski','hiking']\n",
    "\n",
    "sport = pd.Series(sport, name = 'sport type', dtype = str)"
   ]
  },
  {
   "cell_type": "markdown",
   "metadata": {},
   "source": [
    "finally we can load everything into a DataFrame"
   ]
  },
  {
   "cell_type": "code",
   "execution_count": 21,
   "metadata": {},
   "outputs": [
    {
     "data": {
      "text/html": [
       "<div>\n",
       "<style scoped>\n",
       "    .dataframe tbody tr th:only-of-type {\n",
       "        vertical-align: middle;\n",
       "    }\n",
       "\n",
       "    .dataframe tbody tr th {\n",
       "        vertical-align: top;\n",
       "    }\n",
       "\n",
       "    .dataframe thead th {\n",
       "        text-align: right;\n",
       "    }\n",
       "</style>\n",
       "<table border=\"1\" class=\"dataframe\">\n",
       "  <thead>\n",
       "    <tr style=\"text-align: right;\">\n",
       "      <th></th>\n",
       "      <th>length (m)</th>\n",
       "      <th>duration (s)</th>\n",
       "      <th>average speed (km/h)</th>\n",
       "      <th>height meters (m)</th>\n",
       "      <th>max speed (km/h)</th>\n",
       "      <th>sport type</th>\n",
       "      <th>title</th>\n",
       "    </tr>\n",
       "  </thead>\n",
       "  <tbody>\n",
       "    <tr>\n",
       "      <th>0</th>\n",
       "      <td>38811.2</td>\n",
       "      <td>6168</td>\n",
       "      <td>22.6525</td>\n",
       "      <td>1183.9</td>\n",
       "      <td>41.3965</td>\n",
       "      <td>cycling</td>\n",
       "      <td>Tutzing to Starnberg around Starnberger See</td>\n",
       "    </tr>\n",
       "    <tr>\n",
       "      <th>1</th>\n",
       "      <td>16201.4</td>\n",
       "      <td>28022</td>\n",
       "      <td>2.08141</td>\n",
       "      <td>2325.17</td>\n",
       "      <td>16.1333</td>\n",
       "      <td>hiking</td>\n",
       "      <td>Klettersteig grade D to Berchtesgadener Hochtron.</td>\n",
       "    </tr>\n",
       "    <tr>\n",
       "      <th>2</th>\n",
       "      <td>13962.4</td>\n",
       "      <td>19629</td>\n",
       "      <td>2.56074</td>\n",
       "      <td>611.49</td>\n",
       "      <td>10.9775</td>\n",
       "      <td>hiking</td>\n",
       "      <td>Stohrhaus - Marktschellenberg</td>\n",
       "    </tr>\n",
       "    <tr>\n",
       "      <th>3</th>\n",
       "      <td>14573.7</td>\n",
       "      <td>29527</td>\n",
       "      <td>1.77686</td>\n",
       "      <td>1113.73</td>\n",
       "      <td>9.41639</td>\n",
       "      <td>hiking</td>\n",
       "      <td>Wankspitze</td>\n",
       "    </tr>\n",
       "    <tr>\n",
       "      <th>4</th>\n",
       "      <td>62439.1</td>\n",
       "      <td>10685</td>\n",
       "      <td>21.037</td>\n",
       "      <td>1955</td>\n",
       "      <td>44.8053</td>\n",
       "      <td>cycling</td>\n",
       "      <td>Aussicht auf das Isarwehr Höllriegelskreuth</td>\n",
       "    </tr>\n",
       "  </tbody>\n",
       "</table>\n",
       "</div>"
      ],
      "text/plain": [
       "  length (m) duration (s) average speed (km/h) height meters (m)  \\\n",
       "0    38811.2         6168              22.6525            1183.9   \n",
       "1    16201.4        28022              2.08141           2325.17   \n",
       "2    13962.4        19629              2.56074            611.49   \n",
       "3    14573.7        29527              1.77686           1113.73   \n",
       "4    62439.1        10685               21.037              1955   \n",
       "\n",
       "  max speed (km/h) sport type  \\\n",
       "0          41.3965    cycling   \n",
       "1          16.1333     hiking   \n",
       "2          10.9775     hiking   \n",
       "3          9.41639     hiking   \n",
       "4          44.8053    cycling   \n",
       "\n",
       "                                               title  \n",
       "0        Tutzing to Starnberg around Starnberger See  \n",
       "1  Klettersteig grade D to Berchtesgadener Hochtron.  \n",
       "2                      Stohrhaus - Marktschellenberg  \n",
       "3                                         Wankspitze  \n",
       "4        Aussicht auf das Isarwehr Höllriegelskreuth  "
      ]
     },
     "execution_count": 21,
     "metadata": {},
     "output_type": "execute_result"
    }
   ],
   "source": [
    "df = pd.DataFrame(data = [length3d, duration, avg_speed, uphill, max_speed, sport, title]).T                                                             \n",
    "df.head()"
   ]
  },
  {
   "cell_type": "markdown",
   "metadata": {},
   "source": [
    "lets get rid of the data that is marked faulty"
   ]
  },
  {
   "cell_type": "code",
   "execution_count": 22,
   "metadata": {},
   "outputs": [],
   "source": [
    "df = df[df['sport type'] != 'failed']"
   ]
  },
  {
   "cell_type": "markdown",
   "metadata": {},
   "source": [
    "Now we can have some fun to analyze the data. Let's first see if we can discern the different sport types by their dependencies"
   ]
  },
  {
   "cell_type": "code",
   "execution_count": 23,
   "metadata": {},
   "outputs": [
    {
     "data": {
      "text/plain": [
       "<seaborn.axisgrid.PairGrid at 0xd814e4ef60>"
      ]
     },
     "execution_count": 23,
     "metadata": {},
     "output_type": "execute_result"
    },
    {
     "data": {
      "image/png": "[encoded data removed]",
      "text/plain": [
       "<Figure size 647.375x360 with 1 Axes>"
      ]
     },
     "metadata": {
      "needs_background": "light"
     },
     "output_type": "display_data"
    }
   ],
   "source": [
    "sns.pairplot(data = df[['length (m)','average speed (km/h)','sport type']], \n",
    "             hue = 'sport type', \n",
    "             height = 5, \n",
    "             x_vars='length (m)', \n",
    "             y_vars='average speed (km/h)', \n",
    "             aspect = 1.6)"
   ]
  },
  {
   "cell_type": "markdown",
   "metadata": {},
   "source": [
    "In this graph we can really see the difference between sport types. \n",
    "\n",
    "First of all there are the hikes, which have a low to medium distance but a very low average speed. Then there are the runs which have a very low distance but medium average pace. The cycling tours that I did can be identified by their high average speed and medium to long length. There is a bunch of cycling tours cluttered together with almost the same distance: These are from my commuting route. The ski runs also have a long distance but lower average pace (thanks to the lifts in between). And finally there are the skitours which are indiscernable in this graph from hikes because they have more or less the same pace and length.\n",
    "\n",
    "We could actually pick out the skitours from the hikes if we use max speed, but then the other types become more difficult to identify"
   ]
  },
  {
   "cell_type": "markdown",
   "metadata": {},
   "source": [
    "Okay lets see if we can find out something about hiking."
   ]
  },
  {
   "cell_type": "code",
   "execution_count": 24,
   "metadata": {},
   "outputs": [],
   "source": [
    "df_hiking = df[df['sport type'] == 'hiking']"
   ]
  },
  {
   "cell_type": "markdown",
   "metadata": {},
   "source": [
    "Let's say we want to see the distribution of the height meters (m) for all hikes"
   ]
  },
  {
   "cell_type": "code",
   "execution_count": 25,
   "metadata": {},
   "outputs": [
    {
     "data": {
      "image/png": "[encoded data removed]",
      "text/plain": [
       "<Figure size 432x288 with 1 Axes>"
      ]
     },
     "metadata": {
      "needs_background": "light"
     },
     "output_type": "display_data"
    }
   ],
   "source": [
    "sns.distplot(df_hiking['height meters (m)'].astype(np.float64), bins=np.arange(0,3000,250), kde=False, rug=True);"
   ]
  },
  {
   "cell_type": "markdown",
   "metadata": {},
   "source": [
    "Lets plot the height and distance profile of the hike with the most height meters"
   ]
  },
  {
   "cell_type": "code",
   "execution_count": 26,
   "metadata": {},
   "outputs": [
    {
     "data": {
      "text/html": [
       "<div>\n",
       "<style scoped>\n",
       "    .dataframe tbody tr th:only-of-type {\n",
       "        vertical-align: middle;\n",
       "    }\n",
       "\n",
       "    .dataframe tbody tr th {\n",
       "        vertical-align: top;\n",
       "    }\n",
       "\n",
       "    .dataframe thead th {\n",
       "        text-align: right;\n",
       "    }\n",
       "</style>\n",
       "<table border=\"1\" class=\"dataframe\">\n",
       "  <thead>\n",
       "    <tr style=\"text-align: right;\">\n",
       "      <th></th>\n",
       "      <th>length (m)</th>\n",
       "      <th>duration (s)</th>\n",
       "      <th>average speed (km/h)</th>\n",
       "      <th>height meters (m)</th>\n",
       "      <th>max speed (km/h)</th>\n",
       "      <th>sport type</th>\n",
       "      <th>title</th>\n",
       "    </tr>\n",
       "  </thead>\n",
       "  <tbody>\n",
       "    <tr>\n",
       "      <th>170</th>\n",
       "      <td>33451.7</td>\n",
       "      <td>36200</td>\n",
       "      <td>3.32669</td>\n",
       "      <td>2746.54</td>\n",
       "      <td>10.8395</td>\n",
       "      <td>hiking</td>\n",
       "      <td>Benediktenwand Brauneck</td>\n",
       "    </tr>\n",
       "  </tbody>\n",
       "</table>\n",
       "</div>"
      ],
      "text/plain": [
       "    length (m) duration (s) average speed (km/h) height meters (m)  \\\n",
       "170    33451.7        36200              3.32669           2746.54   \n",
       "\n",
       "    max speed (km/h) sport type                    title  \n",
       "170          10.8395     hiking  Benediktenwand Brauneck  "
      ]
     },
     "execution_count": 26,
     "metadata": {},
     "output_type": "execute_result"
    }
   ],
   "source": [
    "df_hiking[df_hiking['height meters (m)'] == df_hiking['height meters (m)'].max()]"
   ]
  },
  {
   "cell_type": "markdown",
   "metadata": {},
   "source": [
    "Track number 170 is the one with the most height meters. We can select the data using the gpx data we loaded in at the beginning"
   ]
  },
  {
   "cell_type": "code",
   "execution_count": null,
   "metadata": {},
   "outputs": [],
   "source": [
    "hike_gpx_track = gpxtracks[170]"
   ]
  },
  {
   "cell_type": "markdown",
   "metadata": {},
   "source": [
    "Let's pour the information into a pandas dataframe"
   ]
  },
  {
   "cell_type": "code",
   "execution_count": 42,
   "metadata": {},
   "outputs": [
    {
     "data": {
      "text/html": [
       "<div>\n",
       "<style scoped>\n",
       "    .dataframe tbody tr th:only-of-type {\n",
       "        vertical-align: middle;\n",
       "    }\n",
       "\n",
       "    .dataframe tbody tr th {\n",
       "        vertical-align: top;\n",
       "    }\n",
       "\n",
       "    .dataframe thead th {\n",
       "        text-align: right;\n",
       "    }\n",
       "</style>\n",
       "<table border=\"1\" class=\"dataframe\">\n",
       "  <thead>\n",
       "    <tr style=\"text-align: right;\">\n",
       "      <th></th>\n",
       "      <th>latitude</th>\n",
       "      <th>longitude</th>\n",
       "      <th>elevation</th>\n",
       "      <th>distance</th>\n",
       "    </tr>\n",
       "  </thead>\n",
       "  <tbody>\n",
       "    <tr>\n",
       "      <th>0</th>\n",
       "      <td>47.660804</td>\n",
       "      <td>11.371230</td>\n",
       "      <td>609.0</td>\n",
       "      <td>0.000000</td>\n",
       "    </tr>\n",
       "    <tr>\n",
       "      <th>1</th>\n",
       "      <td>47.660780</td>\n",
       "      <td>11.371255</td>\n",
       "      <td>609.0</td>\n",
       "      <td>3.263612</td>\n",
       "    </tr>\n",
       "    <tr>\n",
       "      <th>2</th>\n",
       "      <td>47.660763</td>\n",
       "      <td>11.371204</td>\n",
       "      <td>609.0</td>\n",
       "      <td>7.530047</td>\n",
       "    </tr>\n",
       "    <tr>\n",
       "      <th>3</th>\n",
       "      <td>47.660754</td>\n",
       "      <td>11.371155</td>\n",
       "      <td>609.0</td>\n",
       "      <td>11.338021</td>\n",
       "    </tr>\n",
       "    <tr>\n",
       "      <th>4</th>\n",
       "      <td>47.660736</td>\n",
       "      <td>11.371101</td>\n",
       "      <td>609.0</td>\n",
       "      <td>15.855425</td>\n",
       "    </tr>\n",
       "  </tbody>\n",
       "</table>\n",
       "</div>"
      ],
      "text/plain": [
       "    latitude  longitude  elevation   distance\n",
       "0  47.660804  11.371230      609.0   0.000000\n",
       "1  47.660780  11.371255      609.0   3.263612\n",
       "2  47.660763  11.371204      609.0   7.530047\n",
       "3  47.660754  11.371155      609.0  11.338021\n",
       "4  47.660736  11.371101      609.0  15.855425"
      ]
     },
     "execution_count": 42,
     "metadata": {},
     "output_type": "execute_result"
    }
   ],
   "source": [
    "hike_gpx_data = [(i.point.latitude, i.point.longitude, i.point.elevation, i.distance_from_start) for i in hike_gpx_track.get_points_data()]\n",
    "\n",
    "df_hike = pd.DataFrame(hike_gpx_data, columns = ['latitude','longitude','elevation','distance'])\n",
    "df_hike.head()"
   ]
  },
  {
   "cell_type": "code",
   "execution_count": 43,
   "metadata": {},
   "outputs": [
    {
     "data": {
      "text/html": [
       "<div>\n",
       "<style scoped>\n",
       "    .dataframe tbody tr th:only-of-type {\n",
       "        vertical-align: middle;\n",
       "    }\n",
       "\n",
       "    .dataframe tbody tr th {\n",
       "        vertical-align: top;\n",
       "    }\n",
       "\n",
       "    .dataframe thead th {\n",
       "        text-align: right;\n",
       "    }\n",
       "</style>\n",
       "<table border=\"1\" class=\"dataframe\">\n",
       "  <thead>\n",
       "    <tr style=\"text-align: right;\">\n",
       "      <th></th>\n",
       "      <th>latitude</th>\n",
       "      <th>longitude</th>\n",
       "      <th>elevation</th>\n",
       "      <th>distance</th>\n",
       "    </tr>\n",
       "  </thead>\n",
       "  <tbody>\n",
       "    <tr>\n",
       "      <th>2051</th>\n",
       "      <td>47.654264</td>\n",
       "      <td>11.418848</td>\n",
       "      <td>-0.1</td>\n",
       "      <td>9261.156660</td>\n",
       "    </tr>\n",
       "    <tr>\n",
       "      <th>2053</th>\n",
       "      <td>47.654291</td>\n",
       "      <td>11.418767</td>\n",
       "      <td>-0.1</td>\n",
       "      <td>11645.967138</td>\n",
       "    </tr>\n",
       "  </tbody>\n",
       "</table>\n",
       "</div>"
      ],
      "text/plain": [
       "       latitude  longitude  elevation      distance\n",
       "2051  47.654264  11.418848       -0.1   9261.156660\n",
       "2053  47.654291  11.418767       -0.1  11645.967138"
      ]
     },
     "execution_count": 43,
     "metadata": {},
     "output_type": "execute_result"
    }
   ],
   "source": [
    "df_hike[df_hike['elevation'] < 500] "
   ]
  },
  {
   "cell_type": "markdown",
   "metadata": {},
   "source": [
    "There are some mistakes in the elevation profile. Let's get rid of them"
   ]
  },
  {
   "cell_type": "code",
   "execution_count": 45,
   "metadata": {},
   "outputs": [],
   "source": [
    "df_hike['elevation'] = df_hike['elevation'][df_hike['elevation'] > 0]"
   ]
  },
  {
   "cell_type": "code",
   "execution_count": 51,
   "metadata": {},
   "outputs": [
    {
     "data": {
      "text/plain": [
       "Text(0,0.5,'height (m)')"
      ]
     },
     "execution_count": 51,
     "metadata": {},
     "output_type": "execute_result"
    },
    {
     "data": {
      "image/png": "[encoded data removed]",
      "text/plain": [
       "<Figure size 1440x432 with 3 Axes>"
      ]
     },
     "metadata": {
      "needs_background": "light"
     },
     "output_type": "display_data"
    }
   ],
   "source": [
    "fig, axes = plt.subplots(figsize = (20,6), nrows = 1, ncols=2)\n",
    "\n",
    "ax1, ax2 = axes\n",
    "\n",
    "\n",
    "# ax1\n",
    "ax1scat = ax1.scatter(df_hike.longitude, df_hike.latitude, c=df_hike.elevation, s = 1)\n",
    "ax1.set_title('distance profile')\n",
    "ax1.set_xlabel('longitude')\n",
    "ax1.set_ylabel('latitude')\n",
    "plt.colorbar(ax1scat, ax=ax1)\n",
    "\n",
    "\n",
    "ax2.plot(df_hike.distance, df_hike.elevation)\n",
    "ax2.set_title('elevation profile')\n",
    "ax2.set_xlabel('distance from start (m)')\n",
    "ax2.set_ylabel('height (m)')"
   ]
  },
  {
   "cell_type": "markdown",
   "metadata": {},
   "source": [
    "That's it for now. Obviously there is a lot more that you can do with this data. This is just meant as a sneak peek. Hope you enjoyed it!"
   ]
  },
  {
   "cell_type": "code",
   "execution_count": null,
   "metadata": {},
   "outputs": [],
   "source": []
  }
 ],
 "metadata": {
  "kernelspec": {
   "display_name": "Python 3",
   "language": "python",
   "name": "python3"
  }
 },
 "nbformat": 4,
 "nbformat_minor": 2
}
