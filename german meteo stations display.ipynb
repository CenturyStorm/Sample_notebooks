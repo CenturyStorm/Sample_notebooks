{
 "cells": [
  {
   "cell_type": "code",
   "execution_count": 1,
   "metadata": {
    "collapsed": false
   },
   "outputs": [],
   "source": [
    "%matplotlib inline\n",
    "import os\n",
    "import ftplib\n",
    "import zipfile\n",
    "import numpy as np\n",
    "import pandas as pd\n",
    "import matplotlib.pyplot as plt\n",
    "import cartopy.feature as cfeat\n",
    "import cartopy.crs as ccrs"
   ]
  },
  {
   "cell_type": "code",
   "execution_count": 2,
   "metadata": {
    "collapsed": false
   },
   "outputs": [],
   "source": [
    "# load paths\n",
    "website = 'ftp-cdc.dwd.de'\n",
    "webdir = '/pub/CDC/observations_germany/climate/daily/kl/recent/'\n",
    "zipdir = 'F:\\\\Documenten\\\\Documenten\\\\CDC\\\\zip\\\\'\n",
    "txtdir = 'F:\\\\Documenten\\\\Documenten\\\\CDC\\\\txt\\\\'"
   ]
  },
  {
   "cell_type": "code",
   "execution_count": 3,
   "metadata": {
    "collapsed": false
   },
   "outputs": [
    {
     "name": "stdout",
     "output_type": "stream",
     "text": [
      "done downloading zips\n"
     ]
    }
   ],
   "source": [
    "## download zipfiles\n",
    "ftp = ftplib.FTP(website)\n",
    "ftp.login()\n",
    "ftp.cwd(webdir)\n",
    "\n",
    "dirlist = []\n",
    "filenames = ftp.nlst()\n",
    "\n",
    "for filename in filenames:\n",
    "    local_filename = os.path.join(zipdir, filename)\n",
    "    file = open(local_filename, 'wb')\n",
    "    ftp.retrbinary('RETR '+ filename, file.write)\n",
    "    file.close()\n",
    "    \n",
    "ftp.quit()\n",
    "print 'done downloading zips'"
   ]
  },
  {
   "cell_type": "code",
   "execution_count": 4,
   "metadata": {
    "collapsed": false
   },
   "outputs": [
    {
     "name": "stdout",
     "output_type": "stream",
     "text": [
      "done unpacking zips\n"
     ]
    }
   ],
   "source": [
    "# unpack zipfiles\n",
    "local_filenames = os.listdir(zipdir)\n",
    "for filename in local_filenames:\n",
    "    if filename.endswith('.zip'):\n",
    "        fullname = os.path.join(zipdir, filename)\n",
    "        fh = open(fullname, 'rb')\n",
    "        z = zipfile.ZipFile(fh)\n",
    "        name = z.namelist()[6]\n",
    "        z.extract(name, txtdir)\n",
    "        fh.close()\n",
    "print 'done unpacking zips'"
   ]
  },
  {
   "cell_type": "code",
   "execution_count": 4,
   "metadata": {
    "collapsed": false
   },
   "outputs": [
    {
     "ename": "TypeError",
     "evalue": "unsupported operand type(s) for -: 'str' and 'int'",
     "output_type": "error",
     "traceback": [
      "\u001b[1;31m---------------------------------------------------------------------------\u001b[0m",
      "\u001b[1;31mTypeError\u001b[0m                                 Traceback (most recent call last)",
      "\u001b[1;32m<ipython-input-4-a24fd3c8a653>\u001b[0m in \u001b[0;36m<module>\u001b[1;34m()\u001b[0m\n\u001b[0;32m      2\u001b[0m \u001b[0mtxtnames\u001b[0m \u001b[1;33m=\u001b[0m \u001b[1;33m[\u001b[0m\u001b[0mtxtdir\u001b[0m \u001b[1;33m+\u001b[0m \u001b[0mtxtname\u001b[0m \u001b[1;32mfor\u001b[0m \u001b[0mtxtname\u001b[0m \u001b[1;32min\u001b[0m \u001b[0mos\u001b[0m\u001b[1;33m.\u001b[0m\u001b[0mlistdir\u001b[0m\u001b[1;33m(\u001b[0m\u001b[0mtxtdir\u001b[0m\u001b[1;33m)\u001b[0m\u001b[1;33m]\u001b[0m\u001b[1;33m\u001b[0m\u001b[0m\n\u001b[0;32m      3\u001b[0m \u001b[1;33m\u001b[0m\u001b[0m\n\u001b[1;32m----> 4\u001b[1;33m \u001b[0mdflist\u001b[0m \u001b[1;33m=\u001b[0m \u001b[1;33m[\u001b[0m\u001b[0mpd\u001b[0m\u001b[1;33m.\u001b[0m\u001b[0mread_csv\u001b[0m\u001b[1;33m(\u001b[0m\u001b[0mtxtname\u001b[0m\u001b[1;33m,\u001b[0m \u001b[0mdelimiter\u001b[0m \u001b[1;33m=\u001b[0m \u001b[1;34m';'\u001b[0m\u001b[1;33m,\u001b[0m \u001b[0mengine\u001b[0m \u001b[1;33m=\u001b[0m \u001b[1;34m'python'\u001b[0m\u001b[1;33m,\u001b[0m \u001b[0mindex_col\u001b[0m \u001b[1;33m=\u001b[0m \u001b[1;34m' MESS_DATUM'\u001b[0m\u001b[1;33m)\u001b[0m \u001b[1;32mfor\u001b[0m \u001b[0mtxtname\u001b[0m \u001b[1;32min\u001b[0m \u001b[0mtxtnames\u001b[0m\u001b[1;33m]\u001b[0m\u001b[1;33m\u001b[0m\u001b[0m\n\u001b[0m\u001b[0;32m      5\u001b[0m \u001b[0mdf_concat\u001b[0m \u001b[1;33m=\u001b[0m \u001b[0mpd\u001b[0m\u001b[1;33m.\u001b[0m\u001b[0mconcat\u001b[0m\u001b[1;33m(\u001b[0m\u001b[0mdflist\u001b[0m\u001b[1;33m,\u001b[0m \u001b[0maxis\u001b[0m \u001b[1;33m=\u001b[0m \u001b[1;36m0\u001b[0m\u001b[1;33m)\u001b[0m\u001b[1;33m\u001b[0m\u001b[0m\n\u001b[0;32m      6\u001b[0m \u001b[0mdf_concat\u001b[0m\u001b[1;33m.\u001b[0m\u001b[0mindex\u001b[0m \u001b[1;33m=\u001b[0m \u001b[1;33m[\u001b[0m\u001b[0mdf_concat\u001b[0m\u001b[1;33m.\u001b[0m\u001b[0mindex\u001b[0m\u001b[1;33m,\u001b[0m\u001b[0mdf_concat\u001b[0m\u001b[1;33m.\u001b[0m\u001b[0mSTATIONS_ID\u001b[0m\u001b[1;33m]\u001b[0m\u001b[1;33m\u001b[0m\u001b[0m\n",
      "\u001b[1;32mC:\\Python27\\lib\\site-packages\\pandas\\io\\parsers.pyc\u001b[0m in \u001b[0;36mparser_f\u001b[1;34m(filepath_or_buffer, sep, dialect, compression, doublequote, escapechar, quotechar, quoting, skipinitialspace, lineterminator, header, index_col, names, prefix, skiprows, skipfooter, skip_footer, na_values, true_values, false_values, delimiter, converters, dtype, usecols, engine, delim_whitespace, as_recarray, na_filter, compact_ints, use_unsigned, low_memory, buffer_lines, warn_bad_lines, error_bad_lines, keep_default_na, thousands, comment, decimal, parse_dates, keep_date_col, dayfirst, date_parser, memory_map, float_precision, nrows, iterator, chunksize, verbose, encoding, squeeze, mangle_dupe_cols, tupleize_cols, infer_datetime_format, skip_blank_lines)\u001b[0m\n\u001b[0;32m    496\u001b[0m                     skip_blank_lines=skip_blank_lines)\n\u001b[0;32m    497\u001b[0m \u001b[1;33m\u001b[0m\u001b[0m\n\u001b[1;32m--> 498\u001b[1;33m         \u001b[1;32mreturn\u001b[0m \u001b[0m_read\u001b[0m\u001b[1;33m(\u001b[0m\u001b[0mfilepath_or_buffer\u001b[0m\u001b[1;33m,\u001b[0m \u001b[0mkwds\u001b[0m\u001b[1;33m)\u001b[0m\u001b[1;33m\u001b[0m\u001b[0m\n\u001b[0m\u001b[0;32m    499\u001b[0m \u001b[1;33m\u001b[0m\u001b[0m\n\u001b[0;32m    500\u001b[0m     \u001b[0mparser_f\u001b[0m\u001b[1;33m.\u001b[0m\u001b[0m__name__\u001b[0m \u001b[1;33m=\u001b[0m \u001b[0mname\u001b[0m\u001b[1;33m\u001b[0m\u001b[0m\n",
      "\u001b[1;32mC:\\Python27\\lib\\site-packages\\pandas\\io\\parsers.pyc\u001b[0m in \u001b[0;36m_read\u001b[1;34m(filepath_or_buffer, kwds)\u001b[0m\n\u001b[0;32m    283\u001b[0m         \u001b[1;32mreturn\u001b[0m \u001b[0mparser\u001b[0m\u001b[1;33m\u001b[0m\u001b[0m\n\u001b[0;32m    284\u001b[0m \u001b[1;33m\u001b[0m\u001b[0m\n\u001b[1;32m--> 285\u001b[1;33m     \u001b[1;32mreturn\u001b[0m \u001b[0mparser\u001b[0m\u001b[1;33m.\u001b[0m\u001b[0mread\u001b[0m\u001b[1;33m(\u001b[0m\u001b[1;33m)\u001b[0m\u001b[1;33m\u001b[0m\u001b[0m\n\u001b[0m\u001b[0;32m    286\u001b[0m \u001b[1;33m\u001b[0m\u001b[0m\n\u001b[0;32m    287\u001b[0m _parser_defaults = {\n",
      "\u001b[1;32mC:\\Python27\\lib\\site-packages\\pandas\\io\\parsers.pyc\u001b[0m in \u001b[0;36mread\u001b[1;34m(self, nrows)\u001b[0m\n\u001b[0;32m    745\u001b[0m                 \u001b[1;32mraise\u001b[0m \u001b[0mValueError\u001b[0m\u001b[1;33m(\u001b[0m\u001b[1;34m'skip_footer not supported for iteration'\u001b[0m\u001b[1;33m)\u001b[0m\u001b[1;33m\u001b[0m\u001b[0m\n\u001b[0;32m    746\u001b[0m \u001b[1;33m\u001b[0m\u001b[0m\n\u001b[1;32m--> 747\u001b[1;33m         \u001b[0mret\u001b[0m \u001b[1;33m=\u001b[0m \u001b[0mself\u001b[0m\u001b[1;33m.\u001b[0m\u001b[0m_engine\u001b[0m\u001b[1;33m.\u001b[0m\u001b[0mread\u001b[0m\u001b[1;33m(\u001b[0m\u001b[0mnrows\u001b[0m\u001b[1;33m)\u001b[0m\u001b[1;33m\u001b[0m\u001b[0m\n\u001b[0m\u001b[0;32m    748\u001b[0m \u001b[1;33m\u001b[0m\u001b[0m\n\u001b[0;32m    749\u001b[0m         \u001b[1;32mif\u001b[0m \u001b[0mself\u001b[0m\u001b[1;33m.\u001b[0m\u001b[0moptions\u001b[0m\u001b[1;33m.\u001b[0m\u001b[0mget\u001b[0m\u001b[1;33m(\u001b[0m\u001b[1;34m'as_recarray'\u001b[0m\u001b[1;33m)\u001b[0m\u001b[1;33m:\u001b[0m\u001b[1;33m\u001b[0m\u001b[0m\n",
      "\u001b[1;32mC:\\Python27\\lib\\site-packages\\pandas\\io\\parsers.pyc\u001b[0m in \u001b[0;36mread\u001b[1;34m(self, rows)\u001b[0m\n\u001b[0;32m   1594\u001b[0m             return _get_empty_meta(self.orig_names,\n\u001b[0;32m   1595\u001b[0m                                    \u001b[0mself\u001b[0m\u001b[1;33m.\u001b[0m\u001b[0mindex_col\u001b[0m\u001b[1;33m,\u001b[0m\u001b[1;33m\u001b[0m\u001b[0m\n\u001b[1;32m-> 1596\u001b[1;33m                                    self.index_names)\n\u001b[0m\u001b[0;32m   1597\u001b[0m \u001b[1;33m\u001b[0m\u001b[0m\n\u001b[0;32m   1598\u001b[0m         \u001b[1;31m# handle new style for names in index\u001b[0m\u001b[1;33m\u001b[0m\u001b[1;33m\u001b[0m\u001b[0m\n",
      "\u001b[1;32mC:\\Python27\\lib\\site-packages\\pandas\\io\\parsers.pyc\u001b[0m in \u001b[0;36m_get_empty_meta\u001b[1;34m(columns, index_col, index_names, dtype)\u001b[0m\n\u001b[0;32m   2267\u001b[0m         \u001b[0mindex_col\u001b[0m\u001b[1;33m.\u001b[0m\u001b[0msort\u001b[0m\u001b[1;33m(\u001b[0m\u001b[1;33m)\u001b[0m\u001b[1;33m\u001b[0m\u001b[0m\n\u001b[0;32m   2268\u001b[0m         \u001b[1;32mfor\u001b[0m \u001b[0mi\u001b[0m\u001b[1;33m,\u001b[0m \u001b[0mn\u001b[0m \u001b[1;32min\u001b[0m \u001b[0menumerate\u001b[0m\u001b[1;33m(\u001b[0m\u001b[0mindex_col\u001b[0m\u001b[1;33m)\u001b[0m\u001b[1;33m:\u001b[0m\u001b[1;33m\u001b[0m\u001b[0m\n\u001b[1;32m-> 2269\u001b[1;33m             \u001b[0mcolumns\u001b[0m\u001b[1;33m.\u001b[0m\u001b[0mpop\u001b[0m\u001b[1;33m(\u001b[0m\u001b[0mn\u001b[0m\u001b[1;33m-\u001b[0m\u001b[0mi\u001b[0m\u001b[1;33m)\u001b[0m\u001b[1;33m\u001b[0m\u001b[0m\n\u001b[0m\u001b[0;32m   2270\u001b[0m \u001b[1;33m\u001b[0m\u001b[0m\n\u001b[0;32m   2271\u001b[0m     col_dict = dict((col_name, np.empty(0, dtype=dtype.get(col_name, np.object)))\n",
      "\u001b[1;31mTypeError\u001b[0m: unsupported operand type(s) for -: 'str' and 'int'"
     ]
    }
   ],
   "source": [
    "# read txt files into pandas panel\n",
    "txtnames = [txtdir + txtname for txtname in os.listdir(txtdir)]\n",
    "\n",
    "dflist = [pd.read_csv(txtname, delimiter = ';', engine = 'python', index_col = ' MESS_DATUM') for txtname in txtnames]\n",
    "df_concat = pd.concat(dflist, axis = 0)\n",
    "df_concat.index = [df_concat.index,df_concat.STATIONS_ID]\n",
    "\n",
    "data = df_concat.to_panel()\n",
    "data = data.transpose(2,1,0)\n",
    "\n",
    "# convert index to datetime\n",
    "data.major_axis = pd.to_datetime(data.major_axis, format = '%Y%m%d')\n",
    "\n",
    "# read metadata\n",
    "metadata = pd.read_fwf(zipdir + 'KL_Tageswerte_Beschreibung_Stationen.txt', \n",
    "                       index_col = 'Stations_id', \n",
    "                       widths = [11, 10, 10, 15, 10, 10, 42, 92],\n",
    "                       skiprows = [1],\n",
    "                       encoding = 'utf8')\n",
    "\n",
    "metadata.columns = ['start','end','height','lat','lon','name','state']\n",
    "\n",
    "# replace station id with names\n",
    "#data.items = metadata['name'].loc[data.items.values]\n",
    "\n",
    "# make subselection on variables\n",
    "data = data.iloc[:,:,2:-1]\n",
    "\n",
    "# assign new minor axis names\n",
    "data.minor_axis = ['T','e','Octo','p','r','wind','Tx','Tn','Tn_10','wind_max','precip','precip_ind','sunhours','snowheight']\n",
    "\n",
    "# set all -999 to NaN\n",
    "#data = data[data != -999]"
   ]
  },
  {
   "cell_type": "code",
   "execution_count": null,
   "metadata": {
    "collapsed": true
   },
   "outputs": [],
   "source": []
  },
  {
   "cell_type": "code",
   "execution_count": null,
   "metadata": {
    "collapsed": false
   },
   "outputs": [],
   "source": [
    "stations_Tx = data.loc[:,'2014/12':'2015/02','snowheight']\n",
    "stations_Tx = stations_Tx[stations_Tx != -999]\n",
    "stations_Tx = stations_Tx.dropna(axis = 1).mean()\n",
    "stations_lat = metadata['lat'].loc[data.items.values]\n",
    "stations_lon = metadata['lon'].loc[data.items.values]"
   ]
  },
  {
   "cell_type": "code",
   "execution_count": null,
   "metadata": {
    "collapsed": false
   },
   "outputs": [],
   "source": [
    "data2 = pd.concat([stations_lat,stations_lon,stations_Tx], axis = 1)\n",
    "data2.columns = ['lat','lon','Tx']\n",
    "data2 = data2.dropna()"
   ]
  },
  {
   "cell_type": "code",
   "execution_count": null,
   "metadata": {
    "collapsed": false
   },
   "outputs": [],
   "source": [
    "# set up map projection\n",
    "proj = ccrs.Miller()\n",
    "fig = plt.figure(figsize = (30,15))\n",
    "ax = plt.axes(projection = proj)\n",
    "\n",
    "# set edges of the map\n",
    "ax.set_extent([5, 16, 46.5, 55.5])\n",
    "\n",
    "# draw map background\n",
    "scale = '50m'\n",
    "\n",
    "oceans = cfeat.NaturalEarthFeature('physical', 'ocean', scale, edgecolor = 'black', facecolor = cfeat.COLORS['water'], linewidths=.5)\n",
    "land = cfeat.NaturalEarthFeature('physical', 'land', scale, edgecolor = 'black', facecolor = cfeat.COLORS['land'], linewidths=.5)\n",
    "lakes = cfeat.NaturalEarthFeature('physical', 'lakes', scale, edgecolor = 'black', facecolor = cfeat.COLORS['water'], linewidths=.5)\n",
    "borders = cfeat.NaturalEarthFeature('cultural', 'admin_0_boundary_lines_land', scale, edgecolor = 'black', facecolor = 'none', linewidths=.5)\n",
    "\n",
    "ax.add_feature(oceans, zorder = 0)\n",
    "ax.add_feature(land, zorder = 0)\n",
    "ax.add_feature(borders, zorder = 0)\n",
    "ax.add_feature(lakes, zorder = 0)\n",
    "\n",
    "# plot data\n",
    "\n",
    "#for lon, lat, text in zip(data2.lon, data2.lat, data2.Tx):\n",
    "#    ax.text(lon, lat, round(text,1), transform = ccrs.PlateCarree(), ha = 'center', va = 'center')\n",
    "\n",
    "scat = ax.scatter(data2.lon, data2.lat, s = 100, c = data2.Tx, transform = ccrs.PlateCarree(), cmap = plt.cm.Blues_r)\n",
    "plt.colorbar(scat)"
   ]
  },
  {
   "cell_type": "code",
   "execution_count": null,
   "metadata": {
    "collapsed": true
   },
   "outputs": [],
   "source": []
  },
  {
   "cell_type": "code",
   "execution_count": null,
   "metadata": {
    "collapsed": false
   },
   "outputs": [],
   "source": []
  }
 ],
 "metadata": {
  "anaconda-cloud": {},
  "kernelspec": {
   "display_name": "Python [default]",
   "language": "python",
   "name": "python2"
  },
  "language_info": {
   "codemirror_mode": {
    "name": "ipython",
    "version": 2
   },
   "file_extension": ".py",
   "mimetype": "text/x-python",
   "name": "python",
   "nbconvert_exporter": "python",
   "pygments_lexer": "ipython2",
   "version": "2.7.12"
  }
 },
 "nbformat": 4,
 "nbformat_minor": 0
}
