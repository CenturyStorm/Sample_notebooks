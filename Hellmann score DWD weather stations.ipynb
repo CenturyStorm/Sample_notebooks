{
 "cells": [
  {
   "cell_type": "code",
   "execution_count": 3,
   "metadata": {
    "collapsed": false
   },
   "outputs": [],
   "source": [
    "%matplotlib inline\n",
    "import os\n",
    "import ftplib\n",
    "import zipfile\n",
    "import numpy as np\n",
    "import pandas as pd\n",
    "import matplotlib.pyplot as plt\n",
    "import matplotlib.patheffects as PathEffects\n",
    "import cartopy.feature as cfeat\n",
    "import cartopy.crs as ccrs\n",
    "import seaborn.apionly as sns"
   ]
  },
  {
   "cell_type": "code",
   "execution_count": 2,
   "metadata": {
    "collapsed": false
   },
   "outputs": [],
   "source": [
    "# load paths\n",
    "website = 'ftp-cdc.dwd.de'\n",
    "webdir = '/pub/CDC/observations_germany/climate/daily/kl/recent/'\n",
    "zipdir = 'F:\\\\Documenten\\\\Documenten\\\\CDC\\\\zip\\\\'\n",
    "txtdir = 'F:\\\\Documenten\\\\Documenten\\\\CDC\\\\txt\\\\'"
   ]
  },
  {
   "cell_type": "code",
   "execution_count": 3,
   "metadata": {
    "collapsed": false
   },
   "outputs": [
    {
     "name": "stdout",
     "output_type": "stream",
     "text": [
      "done downloading zips\n"
     ]
    }
   ],
   "source": [
    "## download zipfiles\n",
    "ftp = ftplib.FTP(website)\n",
    "ftp.login()\n",
    "ftp.cwd(webdir)\n",
    "\n",
    "dirlist = []\n",
    "filenames = ftp.nlst()\n",
    "\n",
    "for filename in filenames:\n",
    "    local_filename = os.path.join(zipdir, filename)\n",
    "    file = open(local_filename, 'wb')\n",
    "    ftp.retrbinary('RETR '+ filename, file.write)\n",
    "    file.close()\n",
    "    \n",
    "ftp.quit()\n",
    "print 'done downloading zips'"
   ]
  },
  {
   "cell_type": "code",
   "execution_count": 4,
   "metadata": {
    "collapsed": false
   },
   "outputs": [
    {
     "name": "stdout",
     "output_type": "stream",
     "text": [
      "done unpacking zips\n"
     ]
    }
   ],
   "source": [
    "# unpack zipfiles\n",
    "i = 0\n",
    "local_filenames = os.listdir(zipdir)\n",
    "for filename in local_filenames: \n",
    "    if filename.endswith('.zip'): \n",
    "        fullname = os.path.join(zipdir, filename)\n",
    "        fh = open(fullname, 'rb')\n",
    "        z = zipfile.ZipFile(fh)\n",
    "        name = z.namelist()[6]\n",
    "        \n",
    "        # make new folder\n",
    "        if i == 0:\n",
    "            foldername = '_'.join(name.split('_')[:5]) + '\\\\'\n",
    "            folderdir = os.path.join(txtdir, foldername)\n",
    "            try:\n",
    "                os.mkdir(folderdir)\n",
    "            except:\n",
    "                pass\n",
    "            \n",
    "        i += 1\n",
    "        filepath = os.path.join(folderdir, name)\n",
    "        if not os.path.isfile(filepath):\n",
    "            z.extract(name, folderdir)\n",
    "        fh.close()\n",
    "        \n",
    "print 'done unpacking zips'"
   ]
  },
  {
   "cell_type": "code",
   "execution_count": 7,
   "metadata": {
    "collapsed": false
   },
   "outputs": [],
   "source": [
    "namesplit = name.split('_')\n",
    "startdate = namesplit[3]\n",
    "enddate = namesplit[4]"
   ]
  },
  {
   "cell_type": "code",
   "execution_count": 8,
   "metadata": {
    "collapsed": false
   },
   "outputs": [],
   "source": [
    "# read txt files into pandas panel\n",
    "txtnames = [folderdir + txtname for txtname in os.listdir(folderdir)]\n",
    "\n",
    "dflist = [pd.read_csv(txtname, delimiter = ';', engine = 'python', index_col = ' MESS_DATUM') for txtname in txtnames[:-2]]\n",
    "df_concat = pd.concat(dflist, axis = 0)\n",
    "df_concat.index = [df_concat.index,df_concat.STATIONS_ID]\n",
    "\n",
    "data = df_concat.to_panel()\n",
    "data = data.transpose(2,1,0)\n",
    "\n",
    "# convert index to datetime\n",
    "data.major_axis = pd.to_datetime(data.major_axis, format = '%Y%m%d')\n",
    "\n",
    "# read metadata\n",
    "metadata = pd.read_fwf(zipdir + 'KL_Tageswerte_Beschreibung_Stationen.txt', \n",
    "                       index_col = 'Stations_id', \n",
    "                       widths = [11, 10, 10, 15, 10, 10, 42, 92],\n",
    "                       skiprows = [1],\n",
    "                       encoding='ANSI')\n",
    "\n",
    "metadata.columns = ['start','end','height','lat','lon','name','state']\n",
    "\n",
    "# replace station id with names\n",
    "#data.items = metadata['name'].loc[data.items.values]\n",
    "\n",
    "# make subselection on variables\n",
    "data = data.iloc[:,:,2:-1]\n",
    "\n",
    "# assign new minor axis names\n",
    "data.minor_axis = ['T','e','Octo','p','r','wind','Tx','Tn','Tn_10','wind_max','precip','precip_ind','sunhours','snowheight']\n",
    "\n",
    "# set all -999 to NaN\n",
    "#data = data[data != -999]"
   ]
  },
  {
   "cell_type": "code",
   "execution_count": 2,
   "metadata": {
    "collapsed": false
   },
   "outputs": [
    {
     "ename": "NameError",
     "evalue": "name 'data' is not defined",
     "output_type": "error",
     "traceback": [
      "\u001b[0;31m---------------------------------------------------------------------------\u001b[0m",
      "\u001b[0;31mNameError\u001b[0m                                 Traceback (most recent call last)",
      "\u001b[0;32m<ipython-input-2-97963510beb0>\u001b[0m in \u001b[0;36m<module>\u001b[0;34m()\u001b[0m\n\u001b[0;32m----> 1\u001b[0;31m \u001b[0mstations_var\u001b[0m \u001b[1;33m=\u001b[0m \u001b[0mdata\u001b[0m\u001b[1;33m.\u001b[0m\u001b[0mloc\u001b[0m\u001b[1;33m[\u001b[0m\u001b[1;33m:\u001b[0m\u001b[1;33m,\u001b[0m\u001b[1;34m'2016/11/01'\u001b[0m\u001b[1;33m:\u001b[0m\u001b[0menddate\u001b[0m\u001b[1;33m,\u001b[0m\u001b[1;34m'T'\u001b[0m\u001b[1;33m]\u001b[0m\u001b[1;33m\u001b[0m\u001b[0m\n\u001b[0m\u001b[1;32m      2\u001b[0m \u001b[0mstations_var\u001b[0m \u001b[1;33m=\u001b[0m \u001b[0mstations_var\u001b[0m\u001b[1;33m[\u001b[0m\u001b[0mstations_var\u001b[0m \u001b[1;33m!=\u001b[0m \u001b[1;33m-\u001b[0m\u001b[1;36m999\u001b[0m\u001b[1;33m]\u001b[0m\u001b[1;33m\u001b[0m\u001b[0m\n\u001b[1;32m      3\u001b[0m \u001b[0mstations_var\u001b[0m \u001b[1;33m=\u001b[0m \u001b[0mstations_var\u001b[0m\u001b[1;33m.\u001b[0m\u001b[0mdropna\u001b[0m\u001b[1;33m(\u001b[0m\u001b[0maxis\u001b[0m \u001b[1;33m=\u001b[0m \u001b[1;36m1\u001b[0m\u001b[1;33m)\u001b[0m\u001b[1;33m\u001b[0m\u001b[0m\n\u001b[1;32m      4\u001b[0m \u001b[1;33m\u001b[0m\u001b[0m\n\u001b[1;32m      5\u001b[0m \u001b[0mstations_var\u001b[0m\u001b[1;33m[\u001b[0m\u001b[0mstations_var\u001b[0m \u001b[1;33m>\u001b[0m \u001b[1;36m0\u001b[0m\u001b[1;33m]\u001b[0m \u001b[1;33m=\u001b[0m \u001b[1;36m0\u001b[0m\u001b[1;33m\u001b[0m\u001b[0m\n",
      "\u001b[0;31mNameError\u001b[0m: name 'data' is not defined"
     ]
    }
   ],
   "source": [
    "stations_var = data.loc[:,'2016/11/01':enddate,'T']\n",
    "stations_var = stations_var[stations_var != -999]\n",
    "stations_var = stations_var.dropna(axis = 1)\n",
    "\n",
    "stations_var[stations_var > 0] = 0\n",
    "stations_var = -1. * stations_var.sum()\n",
    "\n",
    "stations_lat = metadata['lat'].loc[data.items.values]\n",
    "stations_lon = metadata['lon'].loc[data.items.values]\n",
    "#stations_name = metadata['name'].loc[data.items.values]"
   ]
  },
  {
   "cell_type": "code",
   "execution_count": 3,
   "metadata": {
    "collapsed": false
   },
   "outputs": [
    {
     "ename": "NameError",
     "evalue": "name 'stations_lat' is not defined",
     "output_type": "error",
     "traceback": [
      "\u001b[0;31m---------------------------------------------------------------------------\u001b[0m",
      "\u001b[0;31mNameError\u001b[0m                                 Traceback (most recent call last)",
      "\u001b[0;32m<ipython-input-3-390d25162bad>\u001b[0m in \u001b[0;36m<module>\u001b[0;34m()\u001b[0m\n\u001b[0;32m----> 1\u001b[0;31m \u001b[0mdata2\u001b[0m \u001b[1;33m=\u001b[0m \u001b[0mpd\u001b[0m\u001b[1;33m.\u001b[0m\u001b[0mconcat\u001b[0m\u001b[1;33m(\u001b[0m\u001b[1;33m[\u001b[0m\u001b[0mstations_lat\u001b[0m\u001b[1;33m,\u001b[0m\u001b[0mstations_lon\u001b[0m\u001b[1;33m,\u001b[0m\u001b[0mstations_var\u001b[0m\u001b[1;33m]\u001b[0m\u001b[1;33m,\u001b[0m \u001b[0maxis\u001b[0m \u001b[1;33m=\u001b[0m \u001b[1;36m1\u001b[0m\u001b[1;33m)\u001b[0m\u001b[1;33m\u001b[0m\u001b[0m\n\u001b[0m\u001b[1;32m      2\u001b[0m \u001b[0mdata2\u001b[0m\u001b[1;33m.\u001b[0m\u001b[0mcolumns\u001b[0m \u001b[1;33m=\u001b[0m \u001b[1;33m[\u001b[0m\u001b[1;34m'lat'\u001b[0m\u001b[1;33m,\u001b[0m\u001b[1;34m'lon'\u001b[0m\u001b[1;33m,\u001b[0m\u001b[1;34m'vari'\u001b[0m\u001b[1;33m]\u001b[0m\u001b[1;33m\u001b[0m\u001b[0m\n\u001b[1;32m      3\u001b[0m \u001b[0mdata2\u001b[0m \u001b[1;33m=\u001b[0m \u001b[0mdata2\u001b[0m\u001b[1;33m.\u001b[0m\u001b[0mdropna\u001b[0m\u001b[1;33m(\u001b[0m\u001b[1;33m)\u001b[0m\u001b[1;33m\u001b[0m\u001b[0m\n\u001b[1;32m      4\u001b[0m \u001b[0mhellmann_int\u001b[0m \u001b[1;33m=\u001b[0m \u001b[0mdata2\u001b[0m\u001b[1;33m.\u001b[0m\u001b[0mvari\u001b[0m\u001b[1;33m.\u001b[0m\u001b[0mastype\u001b[0m\u001b[1;33m(\u001b[0m\u001b[0mint\u001b[0m\u001b[1;33m)\u001b[0m\u001b[1;33m\u001b[0m\u001b[0m\n",
      "\u001b[0;31mNameError\u001b[0m: name 'stations_lat' is not defined"
     ]
    }
   ],
   "source": [
    "data2 = pd.concat([stations_lat,stations_lon,stations_var], axis = 1)\n",
    "data2.columns = ['lat','lon','vari']\n",
    "data2 = data2.dropna()\n",
    "hellmann_int = data2.vari.astype(int)"
   ]
  },
  {
   "cell_type": "code",
   "execution_count": 4,
   "metadata": {
    "collapsed": false
   },
   "outputs": [
    {
     "ename": "NameError",
     "evalue": "name 'hellmann_int' is not defined",
     "output_type": "error",
     "traceback": [
      "\u001b[0;31m---------------------------------------------------------------------------\u001b[0m",
      "\u001b[0;31mNameError\u001b[0m                                 Traceback (most recent call last)",
      "\u001b[0;32m<ipython-input-4-c79e44fa1934>\u001b[0m in \u001b[0;36m<module>\u001b[0;34m()\u001b[0m\n\u001b[1;32m      1\u001b[0m \u001b[0mcmap_rgb\u001b[0m \u001b[1;33m=\u001b[0m \u001b[0msns\u001b[0m\u001b[1;33m.\u001b[0m\u001b[0mdark_palette\u001b[0m\u001b[1;33m(\u001b[0m\u001b[1;34m'blue'\u001b[0m\u001b[1;33m,\u001b[0m \u001b[1;36m201\u001b[0m\u001b[1;33m)\u001b[0m\u001b[1;33m\u001b[0m\u001b[0m\n\u001b[0;32m----> 2\u001b[0;31m \u001b[0mcmap_ints\u001b[0m \u001b[1;33m=\u001b[0m \u001b[0mhellmann_int\u001b[0m\u001b[1;33m.\u001b[0m\u001b[0mcopy\u001b[0m\u001b[1;33m(\u001b[0m\u001b[1;33m)\u001b[0m\u001b[1;33m\u001b[0m\u001b[0m\n\u001b[0m\u001b[1;32m      3\u001b[0m \u001b[0mcmap_ints\u001b[0m\u001b[1;33m[\u001b[0m\u001b[0mcmap_ints\u001b[0m \u001b[1;33m>\u001b[0m \u001b[1;36m200\u001b[0m\u001b[1;33m]\u001b[0m \u001b[1;33m=\u001b[0m \u001b[1;36m200\u001b[0m\u001b[1;33m\u001b[0m\u001b[0m\n",
      "\u001b[0;31mNameError\u001b[0m: name 'hellmann_int' is not defined"
     ]
    }
   ],
   "source": [
    "cmap_rgb = sns.dark_palette('blue', 201)\n",
    "cmap_ints = hellmann_int.copy()\n",
    "cmap_ints[cmap_ints > 200] = 200"
   ]
  },
  {
   "cell_type": "code",
   "execution_count": 5,
   "metadata": {
    "collapsed": false
   },
   "outputs": [
    {
     "ename": "NameError",
     "evalue": "name 'data2' is not defined",
     "output_type": "error",
     "traceback": [
      "\u001b[0;31m---------------------------------------------------------------------------\u001b[0m",
      "\u001b[0;31mNameError\u001b[0m                                 Traceback (most recent call last)",
      "\u001b[0;32m<ipython-input-5-d7bb478ce629>\u001b[0m in \u001b[0;36m<module>\u001b[0;34m()\u001b[0m\n\u001b[0;32m----> 1\u001b[0;31m \u001b[0mvari\u001b[0m \u001b[1;33m=\u001b[0m \u001b[0mnp\u001b[0m\u001b[1;33m.\u001b[0m\u001b[0mfloor\u001b[0m\u001b[1;33m(\u001b[0m\u001b[0mdata2\u001b[0m\u001b[1;33m.\u001b[0m\u001b[0mvari\u001b[0m\u001b[1;33m)\u001b[0m\u001b[1;33m.\u001b[0m\u001b[0mastype\u001b[0m\u001b[1;33m(\u001b[0m\u001b[0mint\u001b[0m\u001b[1;33m)\u001b[0m\u001b[1;33m\u001b[0m\u001b[0m\n\u001b[0m",
      "\u001b[0;31mNameError\u001b[0m: name 'data2' is not defined"
     ]
    }
   ],
   "source": [
    "vari = np.floor(data2.vari).astype(int)"
   ]
  },
  {
   "cell_type": "code",
   "execution_count": 4,
   "metadata": {
    "collapsed": true
   },
   "outputs": [],
   "source": [
    "def _plot_natural_earth_feature(category, name, scale, fc, ec, lw, ls, a):\n",
    "    feature = cfeat.NaturalEarthFeature(category = category, name = name, scale = scale, \n",
    "                                        facecolor = fc, edgecolor = ec, linewidth = lw, linestyle = ls, alpha = a)\n",
    "    return ax.add_feature(feature)"
   ]
  },
  {
   "cell_type": "code",
   "execution_count": null,
   "metadata": {
    "collapsed": false,
    "scrolled": false
   },
   "outputs": [],
   "source": [
    "# set up map projection\n",
    "proj = ccrs.Miller()\n",
    "fig = plt.figure(figsize = (50,25))\n",
    "ax = plt.axes(projection = proj)\n",
    "\n",
    "# set edges of the map\n",
    "extent_lon_min = 3#5.2\n",
    "extent_lon_max = 15.2\n",
    "extent_lat_min = 47.3\n",
    "extent_lat_max = 55.1\n",
    "\n",
    "extent = [extent_lon_min, extent_lon_max, extent_lat_min, extent_lat_max]\n",
    "ax.set_extent(extent)\n",
    "\n",
    "lw = 1.\n",
    "a = 1.\n",
    "\n",
    "scale = '10m'\n",
    "\n",
    "# draw map background\n",
    "_plot_natural_earth_feature('physical', 'ocean', scale, cfeat.COLORS['water'], 'none', lw, '-', a)\n",
    "_plot_natural_earth_feature('physical', 'land', scale, cfeat.COLORS['land'], 'face', lw, '-', a)\n",
    "_plot_natural_earth_feature('physical', 'lakes', scale, cfeat.COLORS['water'], 'black', lw, '-', a)\n",
    "_plot_natural_earth_feature('cultural', 'admin_0_boundary_lines_land', scale, 'none', 'black', lw, '-', a)\n",
    "_plot_natural_earth_feature('cultural', 'admin_1_states_provinces_lines', scale, 'none', 'black', 0.5 * lw, '--', a)\n",
    "_plot_natural_earth_feature('cultural', 'roads', scale, 'none', 'red', 0.25*lw, '-', a)\n",
    "_plot_natural_earth_feature('cultural', 'urban_areas', scale, 'orange', 'none', lw, '-', .25)\n",
    "\n",
    "ax.coastlines(resolution = scale, linewidth = lw)\n",
    "\n",
    "\n",
    "# plot data\n",
    "#for lon, lat, text, cmap_int in zip(data2.lon, data2.lat, hellmann_int, cmap_ints):\n",
    "#    ax.text(lon, lat, text, transform = ccrs.PlateCarree(), ha = 'center', va = 'center', color = cmap_rgb[cmap_int], alpha = .75, fontsize = 14,\n",
    "#           path_effects=[PathEffects.withStroke(linewidth = 3, foreground=\"w\")])\n",
    "\n",
    "#scat = ax.scatter(lonlist, latlist, s = .001 * poplist, c = 'lightblue', transform = ccrs.PlateCarree(), linewidth = .5, alpha = .75, zorder = 2)\n",
    "#plt.colorbar(scat)\n",
    "\n",
    "#for lon, lat, text in zip(lonlist, latlist, namelist):\n",
    "#    ax.text(lon, lat, text, transform = ccrs.PlateCarree(), ha = 'center', va = 'center', color = 'black', alpha = .75,\n",
    "#           path_effects=[PathEffects.withStroke(linewidth = 3, foreground=\"w\")])\n",
    "\n",
    "# add title \n",
    "#text_title = 'Hellmann Scores of DWD Stations\\n2016/11/01 to %s'%(enddate[:4] + '/' + enddate[4:6] + '/' + enddate[6:])\n",
    "text_hellmann = 'Hellmann Score = $\\Sigma (T_{g} < 0)$'\n",
    "text_copyright = '(c) Lars Tijssen'\n",
    "\n",
    "\n",
    "#ax.annotate(text_title, xy = (.01,.99), xycoords = 'axes fraction', fontsize = 24, va = 'top',\n",
    "#            path_effects=[PathEffects.withStroke(linewidth = 4, foreground=\"w\")])\n",
    "\n",
    "#ax.annotate(text_hellmann, xy = (.01,.925), xycoords = 'axes fraction', fontsize = 24, va = 'top',\n",
    "#            path_effects=[PathEffects.withStroke(linewidth = 4, foreground=\"w\")])\n",
    "\n",
    "#ax.annotate(text_copyright, xy = (.01,.01), xycoords = 'axes fraction', fontsize = 24, va = 'bottom',\n",
    "#            path_effects=[PathEffects.withStroke(linewidth = 4, foreground=\"w\")])\n",
    "\n",
    "#plt.savefig('F:\\\\Documenten\\\\Documenten\\\\CDC\\\\Hellmann_20161101_%s.pdf'%enddate, bbox_inches = 'tight', transparent = True)\n",
    "#plt.savefig('F:\\\\Documenten\\\\Documenten\\\\CDC\\\\Hellmann_20161101_%s.png'%enddate, bbox_inches = 'tight', transparent = True)"
   ]
  },
  {
   "cell_type": "code",
   "execution_count": null,
   "metadata": {
    "collapsed": true
   },
   "outputs": [],
   "source": []
  }
 ],
 "metadata": {
  "anaconda-cloud": {},
  "kernelspec": {
   "display_name": "Python [default]",
   "language": "python",
   "name": "python2"
  },
  "language_info": {
   "codemirror_mode": {
    "name": "ipython",
    "version": 2
   },
   "file_extension": ".py",
   "mimetype": "text/x-python",
   "name": "python",
   "nbconvert_exporter": "python",
   "pygments_lexer": "ipython2",
   "version": "2.7.12"
  }
 },
 "nbformat": 4,
 "nbformat_minor": 0
}
